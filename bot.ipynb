{
 "cells": [
  {
   "cell_type": "markdown",
   "id": "2986ce8b",
   "metadata": {},
   "source": [
    "## Imports"
   ]
  },
  {
   "cell_type": "code",
   "execution_count": 2,
   "id": "13e76546",
   "metadata": {},
   "outputs": [],
   "source": [
    "from booster_robotics_sdk_python import B1LocoClient, ChannelFactory, RobotMode, B1HandIndex, GripperControlMode, Position, Orientation, Posture, GripperMotionParameter, GetModeResponse, Quaternion, Frame, Transform, DexterousFingerParameter\n",
    "import time"
   ]
  },
  {
   "cell_type": "markdown",
   "id": "eef73a1c",
   "metadata": {},
   "source": [
    "## Control"
   ]
  },
  {
   "cell_type": "code",
   "execution_count": 13,
   "id": "9099dc84",
   "metadata": {},
   "outputs": [],
   "source": [
    "## Establish Connection \n",
    "network_interface = \"192.168.1.53\"\n",
    "ChannelFactory.Instance().Init(0, network_interface)\n",
    "\n",
    "client = B1LocoClient()\n",
    "client.Init()"
   ]
  },
  {
   "cell_type": "code",
   "execution_count": null,
   "id": "a75459a9",
   "metadata": {},
   "outputs": [
    {
     "name": "stdout",
     "output_type": "stream",
     "text": [
      "Change to Prepare mode: 100\n"
     ]
    }
   ],
   "source": [
    "yaw, pitch = 0.0, 1.0\n",
    "need_print = True\n",
    "res = client.RotateHead(pitch, yaw)\n",
    "print(f\"Rotate head result: {res}\")"
   ]
  },
  {
   "cell_type": "markdown",
   "id": "abb10687",
   "metadata": {},
   "source": [
    "# Actions"
   ]
  },
  {
   "cell_type": "code",
   "execution_count": null,
   "id": "31a693cc",
   "metadata": {},
   "outputs": [],
   "source": [
    "SwitchHandEndEffectorControlMode(False)"
   ]
  },
  {
   "cell_type": "code",
   "execution_count": null,
   "id": "6953ed3a",
   "metadata": {},
   "outputs": [],
   "source": [
    "# Modes\n",
    "res = client.ChangeMode(RobotMode.kPrepare)\n",
    "res = client.ChangeMode(RobotMode.kDamping)\n",
    "res = client.ChangeMode(RobotMode.kWalking)\n",
    "res = client.ChangeMode(RobotMode.kCustom)"
   ]
  },
  {
   "cell_type": "code",
   "execution_count": null,
   "id": "8efdecd0",
   "metadata": {},
   "outputs": [],
   "source": [
    "# Head\n",
    "res = client.RotateHead(pitch, yaw)"
   ]
  },
  {
   "cell_type": "code",
   "execution_count": null,
   "id": "557c43a5",
   "metadata": {},
   "outputs": [],
   "source": [
    "# Arm\n",
    "tar_posture = Posture()\\\n",
    "tar_posture.position = Position(0.35, 0.25, 0.1)\n",
    "tar_posture.orientation = Orientation(-1.57, -1.57, 0.0)\n",
    "res = client.MoveHandEndEffectorV2(\n",
    "    tar_posture, 2000, B1HandIndex.kLeftHand)\n"
   ]
  },
  {
   "cell_type": "code",
   "execution_count": null,
   "id": "d293a7dd",
   "metadata": {},
   "outputs": [],
   "source": [
    "# Movement\n",
    "x, y, z = 0.0, -0.2, 0.0\n",
    "res = client.Move(x, y, z)"
   ]
  }
 ],
 "metadata": {
  "kernelspec": {
   "display_name": "Python 3",
   "language": "python",
   "name": "python3"
  },
  "language_info": {
   "codemirror_mode": {
    "name": "ipython",
    "version": 3
   },
   "file_extension": ".py",
   "mimetype": "text/x-python",
   "name": "python",
   "nbconvert_exporter": "python",
   "pygments_lexer": "ipython3",
   "version": "3.10.12"
  }
 },
 "nbformat": 4,
 "nbformat_minor": 5
}
